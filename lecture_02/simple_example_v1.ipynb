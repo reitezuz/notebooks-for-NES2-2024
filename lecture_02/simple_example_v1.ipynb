{
  "nbformat": 4,
  "nbformat_minor": 0,
  "metadata": {
    "colab": {
      "provenance": [],
      "authorship_tag": "ABX9TyNj/uJp3LULvH0pau0AZd5K",
      "include_colab_link": true
    },
    "kernelspec": {
      "name": "python3",
      "display_name": "Python 3"
    },
    "language_info": {
      "name": "python"
    }
  },
  "cells": [
    {
      "cell_type": "markdown",
      "metadata": {
        "id": "view-in-github",
        "colab_type": "text"
      },
      "source": [
        "<a href=\"https://colab.research.google.com/github/reitezuz/notebooks-for-NES2-2024/blob/main/lecture_02/simple_example_v1.ipynb\" target=\"_parent\"><img src=\"https://colab.research.google.com/assets/colab-badge.svg\" alt=\"Open In Colab\"/></a>"
      ]
    },
    {
      "cell_type": "markdown",
      "source": [
        "# The first example - simple Keras MLP model (step by step)\n",
        "\n",
        "\n",
        "## Load, view and analyze the data\n",
        "\n",
        "\n"
      ],
      "metadata": {
        "id": "FfX7M9hjkWsC"
      }
    },
    {
      "cell_type": "code",
      "source": [
        "# Load the MNIST dataset\n",
        "\n",
        "import tensorflow as tf\n",
        "(train_images, train_labels), (test_images, test_labels) = tf.keras.datasets.mnist.load_data()\n",
        "\n"
      ],
      "metadata": {
        "id": "MwVsc3VekVh7",
        "colab": {
          "base_uri": "https://localhost:8080/"
        },
        "outputId": "85bb0d30-1533-4577-a514-cd9feef098cb"
      },
      "execution_count": 1,
      "outputs": [
        {
          "output_type": "stream",
          "name": "stdout",
          "text": [
            "Downloading data from https://storage.googleapis.com/tensorflow/tf-keras-datasets/mnist.npz\n",
            "\u001b[1m11490434/11490434\u001b[0m \u001b[32m━━━━━━━━━━━━━━━━━━━━\u001b[0m\u001b[37m\u001b[0m \u001b[1m0s\u001b[0m 0us/step\n"
          ]
        }
      ]
    },
    {
      "cell_type": "code",
      "source": [
        "# 60000 training samples - images 28x28 in greyscale\n",
        "print(train_images.shape, train_labels.shape)\n",
        "\n",
        "# 10000 testing samples - images 28x28 in greyscale\n",
        "print(test_images.shape, test_labels.shape)\n",
        "\n",
        "# 10 categories\n",
        "print(len(train_images), train_labels[:10])"
      ],
      "metadata": {
        "colab": {
          "base_uri": "https://localhost:8080/"
        },
        "id": "KvvntzS9lg7M",
        "outputId": "25ff9a82-ccea-455b-ca8c-f595c283e0ae"
      },
      "execution_count": 2,
      "outputs": [
        {
          "output_type": "stream",
          "name": "stdout",
          "text": [
            "(60000, 28, 28) (60000,)\n",
            "(10000, 28, 28) (10000,)\n",
            "60000 [5 0 4 1 9 2 1 3 1 4]\n"
          ]
        }
      ]
    },
    {
      "cell_type": "code",
      "source": [
        "# Basic statistics of the data\n",
        "import matplotlib.pyplot as plt\n",
        "import numpy as np\n",
        "\n",
        "print(\"Training data statistics:\")\n",
        "print(\"Number of samples:\", len(train_images))\n",
        "print(\"Image shape:\", train_images.shape[1:])\n",
        "print(\"Mean pixel value:\", np.mean(train_images))\n",
        "print(\"Standard deviation of pixel values:\", np.std(train_images))\n",
        "print(\"Extremes of pixel values:\", np.min(train_images), np.max(train_images))\n",
        "print(\"Label distribution:\", np.bincount(train_labels))\n",
        "\n",
        "print(\"\\nTesting data statistics:\")\n",
        "print(\"Number of samples:\", len(test_images))\n",
        "print(\"Image shape:\", test_images.shape[1:])\n",
        "print(\"Mean pixel value:\", np.mean(test_images))\n",
        "print(\"Extremes of pixel values:\", np.min(train_images), np.max(train_images))\n",
        "print(\"Standard deviation of pixel values:\", np.std(test_images))\n",
        "print(\"Label distribution:\", np.bincount(test_labels))\n",
        "\n",
        "# Analyze the label distribution\n",
        "label_counts = np.bincount(train_labels)\n",
        "plt.figure(figsize=(8, 6))\n",
        "plt.bar(range(10), label_counts)\n",
        "plt.xlabel(\"Digit\")\n",
        "plt.ylabel(\"Frequency\")\n",
        "plt.title(\"Distribution of Digits in Training Data\")\n",
        "plt.show()\n",
        "\n",
        "# Check for missing values\n",
        "print(\"Number of missing values in training images:\", np.sum(np.isnan(train_images)))\n",
        "print(\"Number of missing values in test images:\", np.sum(np.isnan(test_images)))"
      ],
      "metadata": {
        "colab": {
          "base_uri": "https://localhost:8080/",
          "height": 879
        },
        "id": "z66RtIVrpN51",
        "outputId": "7c385c4d-2c26-4f2e-da48-ce72f35e77d8"
      },
      "execution_count": 3,
      "outputs": [
        {
          "output_type": "stream",
          "name": "stdout",
          "text": [
            "Training data statistics:\n",
            "Number of samples: 60000\n",
            "Image shape: (28, 28)\n",
            "Mean pixel value: 33.318421449829934\n",
            "Standard deviation of pixel values: 78.56748998339798\n",
            "Extremes of pixel values: 0 255\n",
            "Label distribution: [5923 6742 5958 6131 5842 5421 5918 6265 5851 5949]\n",
            "\n",
            "Testing data statistics:\n",
            "Number of samples: 10000\n",
            "Image shape: (28, 28)\n",
            "Mean pixel value: 33.791224489795916\n",
            "Extremes of pixel values: 0 255\n",
            "Standard deviation of pixel values: 79.17246322228644\n",
            "Label distribution: [ 980 1135 1032 1010  982  892  958 1028  974 1009]\n"
          ]
        },
        {
          "output_type": "display_data",
          "data": {
            "text/plain": [
              "<Figure size 800x600 with 1 Axes>"
            ],
            "image/png": "[encoded data removed]"
          },
          "metadata": {}
        },
        {
          "output_type": "stream",
          "name": "stdout",
          "text": [
            "Number of missing values in training images: 0\n",
            "Number of missing values in test images: 0\n"
          ]
        }
      ]
    },
    {
      "cell_type": "code",
      "source": [
        "# Display some images\n",
        "\n",
        "import matplotlib.pyplot as plt\n",
        "\n",
        "# Display the first 10 images\n",
        "plt.figure(figsize=(10, 10))\n",
        "for i in range(10):\n",
        "    plt.subplot(5, 5, i + 1)\n",
        "    plt.xticks([])  # Remove axis ticks and the grids\n",
        "    plt.yticks([])\n",
        "    plt.grid(False)\n",
        "    plt.imshow(train_images[i], cmap=plt.cm.binary) # Display the current image using a binary color map\n",
        "    plt.xlabel(train_labels[i])\n",
        "plt.show()\n"
      ],
      "metadata": {
        "colab": {
          "base_uri": "https://localhost:8080/",
          "height": 368
        },
        "id": "PHr6LuBMomDO",
        "outputId": "bf47c134-62da-4d5b-bcb1-cc0db8750637"
      },
      "execution_count": 4,
      "outputs": [
        {
          "output_type": "display_data",
          "data": {
            "text/plain": [
              "<Figure size 1000x1000 with 10 Axes>"
            ],
            "image/png": "[encoded data removed]"
          },
          "metadata": {}
        }
      ]
    },
    {
      "cell_type": "code",
      "source": [],
      "metadata": {
        "id": "-Wgl9i_8MUMg"
      },
      "execution_count": 4,
      "outputs": []
    },
    {
      "cell_type": "markdown",
      "source": [
        "## Preprocess the data\n",
        "\n",
        "\n",
        "*   Depends on the character of the data and on the chosen model\n",
        "\n",
        "\n"
      ],
      "metadata": {
        "id": "yHxfENUMrEQi"
      }
    },
    {
      "cell_type": "code",
      "source": [
        "# 1a. Reshape and normalize the data:\n",
        "# reshape the data into a flat vector (784 elements) for input to our neural network.\n",
        "x_train_0 = train_images.reshape(60000, 28 * 28)\n",
        "x_test_0 = test_images.reshape(10000, 28 * 28)\n",
        "y_train = train_labels\n",
        "y_test = test_labels\n",
        "\n",
        "# 1b. We also convert the pixel values from integers [0-255] to floating-point numbers and normalize them to the range [0, 1].\n",
        "x_train = x_train_0.astype('float32') / 255\n",
        "x_test = x_test_0.astype('float32') / 255\n",
        "\n",
        "# 2. Resolve the missing values,...\n",
        "\n",
        "# 3. Some image augmentation,...\n",
        "\n",
        "# 4. Arbitrary: one-hot encode the labels:\n",
        "# For example, the label 3 would become [0, 0, 0, 1, 0, 0, 0, 0, 0, 0].\n",
        "y_train_categorical = tf.keras.utils.to_categorical(y_train, num_classes=10)\n",
        "y_test_categorical  = tf.keras.utils.to_categorical(y_test, num_classes=10)\n",
        "\n",
        "# print(y_train_categorical[:2])\n",
        "\n",
        "# 3. Split the data:\n",
        "# The training data can be further split into training and validation sets.\n",
        "# The validation set is used to monitor the performance of the model during training and prevent overfitting.\n",
        "\n",
        "from sklearn.model_selection import train_test_split\n",
        "x_train, x_val, y_train, y_val = train_test_split(x_train, y_train, test_size=0.1)\n",
        "\n"
      ],
      "metadata": {
        "id": "cwVnJ6fdrDgr"
      },
      "execution_count": 5,
      "outputs": []
    },
    {
      "cell_type": "code",
      "source": [
        "# Alternative data normalization: standard scaling to center the data around zero and achieve a unit standard deviation\n",
        "\n",
        "from sklearn.preprocessing import StandardScaler\n",
        "\n",
        "# Create a StandardScaler object\n",
        "scaler = StandardScaler()\n",
        "\n",
        "# Fit the scaler on the training data and transform it\n",
        "x_train_s = scaler.fit_transform(x_train_0)\n",
        "\n",
        "# Transform the test and validation data using the same scaler\n",
        "x_test_s = scaler.transform(x_test_0)\n",
        "\n",
        "# Mean and standard deviation for the two variants of normalization:\n",
        "print(np.mean(x_train_s), np.std(x_train_s), np.mean(x_test_s), np.std(x_test_s))\n",
        "print(np.mean(x_train), np.std(x_train), np.mean(x_test), np.std(x_test))"
      ],
      "metadata": {
        "colab": {
          "base_uri": "https://localhost:8080/"
        },
        "id": "cO7DHTbiOzvd",
        "outputId": "0090f1a3-7e18-4bab-8832-5b4dc57895d4"
      },
      "execution_count": 6,
      "outputs": [
        {
          "output_type": "stream",
          "name": "stdout",
          "text": [
            "-2.1974863349995617e-18 0.9563162742140049 0.002495697308915079 0.9571450819920649\n",
            "0.13070032 0.30814278 0.13251467 0.31048027\n"
          ]
        }
      ]
    },
    {
      "cell_type": "markdown",
      "source": [
        "## Define the model architecture"
      ],
      "metadata": {
        "id": "UiItbng2zUM3"
      }
    },
    {
      "cell_type": "code",
      "source": [
        "import keras\n",
        "\n",
        "model = keras.Sequential([\n",
        "    keras.layers.InputLayer(input_shape=(28 * 28,)),\n",
        "    keras.layers.Dense(512, activation='relu'),\n",
        "    keras.layers.Dense(10, activation='softmax')\n",
        "])\n",
        "\n",
        "model.summary()\n"
      ],
      "metadata": {
        "colab": {
          "base_uri": "https://localhost:8080/",
          "height": 256
        },
        "id": "qGV8yvJgzSU3",
        "outputId": "944f0030-f6dd-4624-e06c-e58f0baaf9ff"
      },
      "execution_count": 8,
      "outputs": [
        {
          "output_type": "stream",
          "name": "stderr",
          "text": [
            "/usr/local/lib/python3.10/dist-packages/keras/src/layers/core/input_layer.py:26: UserWarning: Argument `input_shape` is deprecated. Use `shape` instead.\n",
            "  warnings.warn(\n"
          ]
        },
        {
          "output_type": "display_data",
          "data": {
            "text/plain": [
              "\u001b[1mModel: \"sequential\"\u001b[0m\n"
            ],
            "text/html": [
              "<pre style=\"white-space:pre;overflow-x:auto;line-height:normal;font-family:Menlo,'DejaVu Sans Mono',consolas,'Courier New',monospace\"><span style=\"font-weight: bold\">Model: \"sequential\"</span>\n",
              "</pre>\n"
            ]
          },
          "metadata": {}
        },
        {
          "output_type": "display_data",
          "data": {
            "text/plain": [
              "┏━━━━━━━━━━━━━━━━━━━━━━━━━━━━━━━━━━━━━━┳━━━━━━━━━━━━━━━━━━━━━━━━━━━━━┳━━━━━━━━━━━━━━━━━┓\n",
              "┃\u001b[1m \u001b[0m\u001b[1mLayer (type)                        \u001b[0m\u001b[1m \u001b[0m┃\u001b[1m \u001b[0m\u001b[1mOutput Shape               \u001b[0m\u001b[1m \u001b[0m┃\u001b[1m \u001b[0m\u001b[1m        Param #\u001b[0m\u001b[1m \u001b[0m┃\n",
              "┡━━━━━━━━━━━━━━━━━━━━━━━━━━━━━━━━━━━━━━╇━━━━━━━━━━━━━━━━━━━━━━━━━━━━━╇━━━━━━━━━━━━━━━━━┩\n",
              "│ dense (\u001b[38;5;33mDense\u001b[0m)                        │ (\u001b[38;5;45mNone\u001b[0m, \u001b[38;5;34m512\u001b[0m)                 │         \u001b[38;5;34m401,920\u001b[0m │\n",
              "├──────────────────────────────────────┼─────────────────────────────┼─────────────────┤\n",
              "│ dense_1 (\u001b[38;5;33mDense\u001b[0m)                      │ (\u001b[38;5;45mNone\u001b[0m, \u001b[38;5;34m10\u001b[0m)                  │           \u001b[38;5;34m5,130\u001b[0m │\n",
              "└──────────────────────────────────────┴─────────────────────────────┴─────────────────┘\n"
            ],
            "text/html": [
              "<pre style=\"white-space:pre;overflow-x:auto;line-height:normal;font-family:Menlo,'DejaVu Sans Mono',consolas,'Courier New',monospace\">┏━━━━━━━━━━━━━━━━━━━━━━━━━━━━━━━━━━━━━━┳━━━━━━━━━━━━━━━━━━━━━━━━━━━━━┳━━━━━━━━━━━━━━━━━┓\n",
              "┃<span style=\"font-weight: bold\"> Layer (type)                         </span>┃<span style=\"font-weight: bold\"> Output Shape                </span>┃<span style=\"font-weight: bold\">         Param # </span>┃\n",
              "┡━━━━━━━━━━━━━━━━━━━━━━━━━━━━━━━━━━━━━━╇━━━━━━━━━━━━━━━━━━━━━━━━━━━━━╇━━━━━━━━━━━━━━━━━┩\n",
              "│ dense (<span style=\"color: #0087ff; text-decoration-color: #0087ff\">Dense</span>)                        │ (<span style=\"color: #00d7ff; text-decoration-color: #00d7ff\">None</span>, <span style=\"color: #00af00; text-decoration-color: #00af00\">512</span>)                 │         <span style=\"color: #00af00; text-decoration-color: #00af00\">401,920</span> │\n",
              "├──────────────────────────────────────┼─────────────────────────────┼─────────────────┤\n",
              "│ dense_1 (<span style=\"color: #0087ff; text-decoration-color: #0087ff\">Dense</span>)                      │ (<span style=\"color: #00d7ff; text-decoration-color: #00d7ff\">None</span>, <span style=\"color: #00af00; text-decoration-color: #00af00\">10</span>)                  │           <span style=\"color: #00af00; text-decoration-color: #00af00\">5,130</span> │\n",
              "└──────────────────────────────────────┴─────────────────────────────┴─────────────────┘\n",
              "</pre>\n"
            ]
          },
          "metadata": {}
        },
        {
          "output_type": "display_data",
          "data": {
            "text/plain": [
              "\u001b[1m Total params: \u001b[0m\u001b[38;5;34m407,050\u001b[0m (1.55 MB)\n"
            ],
            "text/html": [
              "<pre style=\"white-space:pre;overflow-x:auto;line-height:normal;font-family:Menlo,'DejaVu Sans Mono',consolas,'Courier New',monospace\"><span style=\"font-weight: bold\"> Total params: </span><span style=\"color: #00af00; text-decoration-color: #00af00\">407,050</span> (1.55 MB)\n",
              "</pre>\n"
            ]
          },
          "metadata": {}
        },
        {
          "output_type": "display_data",
          "data": {
            "text/plain": [
              "\u001b[1m Trainable params: \u001b[0m\u001b[38;5;34m407,050\u001b[0m (1.55 MB)\n"
            ],
            "text/html": [
              "<pre style=\"white-space:pre;overflow-x:auto;line-height:normal;font-family:Menlo,'DejaVu Sans Mono',consolas,'Courier New',monospace\"><span style=\"font-weight: bold\"> Trainable params: </span><span style=\"color: #00af00; text-decoration-color: #00af00\">407,050</span> (1.55 MB)\n",
              "</pre>\n"
            ]
          },
          "metadata": {}
        },
        {
          "output_type": "display_data",
          "data": {
            "text/plain": [
              "\u001b[1m Non-trainable params: \u001b[0m\u001b[38;5;34m0\u001b[0m (0.00 B)\n"
            ],
            "text/html": [
              "<pre style=\"white-space:pre;overflow-x:auto;line-height:normal;font-family:Menlo,'DejaVu Sans Mono',consolas,'Courier New',monospace\"><span style=\"font-weight: bold\"> Non-trainable params: </span><span style=\"color: #00af00; text-decoration-color: #00af00\">0</span> (0.00 B)\n",
              "</pre>\n"
            ]
          },
          "metadata": {}
        }
      ]
    },
    {
      "cell_type": "markdown",
      "source": [
        "## Set model parameters:\n"
      ],
      "metadata": {
        "id": "yYGGdVWC1jJs"
      }
    },
    {
      "cell_type": "code",
      "source": [
        "'''\n",
        "model.compile(optimizer='sgd',\n",
        "              loss='sparse_categorical_crossentropy',\n",
        "              metrics=['accuracy'])\n",
        "'''\n",
        "# optimizer ... training algorithm\n",
        "# loss ... error/loss function\n",
        "# metrics ... for evaluation\n",
        "\n",
        "model.compile(optimizer= keras.optimizers.SGD(learning_rate = 0.001), # 'sgd'\n",
        "              loss= keras.losses.SparseCategoricalCrossentropy(), #'sparse_categorical_crossentropy',\n",
        "              metrics= [keras.metrics.SparseCategoricalCrossentropy(\"accracy\")] )#['accuracy'])\n"
      ],
      "metadata": {
        "id": "Qz8HQ6Md1i5j"
      },
      "execution_count": null,
      "outputs": []
    },
    {
      "cell_type": "markdown",
      "source": [
        "## Train the model"
      ],
      "metadata": {
        "id": "8Jdcj9-D3gFM"
      }
    },
    {
      "cell_type": "code",
      "source": [
        "# Train the model\n",
        "history = model.fit(x_train, y_train, epochs=5, batch_size=128, validation_data=(x_val, y_val))\n",
        "\n"
      ],
      "metadata": {
        "id": "xvFjzaDZ3NO7"
      },
      "execution_count": null,
      "outputs": []
    },
    {
      "cell_type": "code",
      "source": [
        "# plot the training progress:\n",
        "\n",
        "# Plot training & validation accuracy values\n",
        "plt.plot(history.history['accuracy'])\n",
        "plt.plot(history.history['val_accuracy'])\n",
        "plt.title('Model accuracy')\n",
        "plt.ylabel('Accuracy')\n",
        "plt.xlabel('Epoch')\n",
        "plt.legend(['Train', 'Validation'], loc='upper left')\n",
        "plt.show()\n",
        "\n",
        "# Plot training & validation loss values\n",
        "plt.plot(history.history['loss'])\n",
        "plt.plot(history.history['val_loss'])\n",
        "plt.title('Model loss')\n",
        "plt.ylabel('Loss')\n",
        "plt.xlabel('Epoch')\n",
        "plt.legend(['Train', 'Validation'], loc='upper left')\n",
        "plt.show()\n"
      ],
      "metadata": {
        "id": "EU8cUnQS-oVY"
      },
      "execution_count": null,
      "outputs": []
    },
    {
      "cell_type": "markdown",
      "source": [
        "## Evaluate the model and make predictions on new data"
      ],
      "metadata": {
        "id": "d9oYaO_138aa"
      }
    },
    {
      "cell_type": "code",
      "source": [
        "# Evaluate the model on the test set\n",
        "test_loss, test_acc = model.evaluate(x_test, y_test)\n",
        "print('Test accuracy:', test_acc, '\\nTest loss:', test_loss)"
      ],
      "metadata": {
        "id": "ybh3LJY694ha"
      },
      "execution_count": null,
      "outputs": []
    },
    {
      "cell_type": "code",
      "source": [
        "# Make predictions on test data\n",
        "predictions = model.predict(x_test)\n",
        "print(predictions[:2])\n",
        "\n",
        "# predicted class:\n",
        "print(predictions[0].argmax(), predictions[0][predictions[0].argmax()], test_labels[0])"
      ],
      "metadata": {
        "id": "vNHkFYxs_K9T"
      },
      "execution_count": null,
      "outputs": []
    },
    {
      "cell_type": "code",
      "source": [
        "# Get the predicted class for each sample\n",
        "predicted_classes = np.argmax(predictions, axis=1)\n",
        "\n",
        "print(\"Predicted labels:\", predicted_classes[:10])\n",
        "print(\"True labels:\", y_test[:10])\n",
        "\n",
        "# Misclassified indices:\n",
        "misclassified_indices = np.where(predicted_classes != y_test)[0]\n",
        "num_misclassified = len(misclassified_indices)\n",
        "print(\"Number of misclassified images:\", num_misclassified, \"out of\", len(y_test), \", accuracy\", test_acc)\n",
        "\n",
        "from sklearn.metrics import confusion_matrix\n",
        "cm = confusion_matrix(y_test, predicted_classes)\n"
      ],
      "metadata": {
        "id": "DGifKcIb-QFE"
      },
      "execution_count": null,
      "outputs": []
    },
    {
      "cell_type": "code",
      "source": [
        "# Plot the confusion matrix\n",
        "import matplotlib.pyplot as plt\n",
        "import seaborn as sns\n",
        "\n",
        "plt.figure(figsize=(10, 8))\n",
        "sns.heatmap(cm, annot=True, fmt='d', cmap='Blues')\n",
        "plt.xlabel('Predicted Label')\n",
        "plt.ylabel('True Label')\n",
        "plt.title('Confusion Matrix')\n",
        "plt.show()"
      ],
      "metadata": {
        "id": "JQEUptwY5doc"
      },
      "execution_count": null,
      "outputs": []
    },
    {
      "cell_type": "code",
      "source": [
        "# Plot some misclassified images\n",
        "num_images_to_plot = 5\n",
        "plt.figure(figsize=(10, 10))\n",
        "for i in range(min(num_images_to_plot, len(misclassified_indices))):\n",
        "    index = misclassified_indices[i]\n",
        "    plt.subplot(1, num_images_to_plot, i + 1)\n",
        "    plt.xticks([])\n",
        "    plt.yticks([])\n",
        "    plt.grid(False)\n",
        "    plt.imshow(test_images[index], cmap=plt.cm.binary)\n",
        "    plt.xlabel(f\"Pred: {predicted_classes[index]}, True: {y_test[index]}\")\n",
        "plt.show()"
      ],
      "metadata": {
        "id": "lufJQdH7_xXS"
      },
      "execution_count": null,
      "outputs": []
    },
    {
      "cell_type": "code",
      "source": [
        "# Plot some misclassified images from a given target (or predicted) class\n",
        "target_class = 3\n",
        "misclassified_indices_class = np.where((predicted_classes != y_test) & (y_test == target_class))[0]\n",
        "#misclassified_indices_class = np.where((predicted_classes != y_test) & (predicted_classes == target_class))[0]\n",
        "\n",
        "\n",
        "\n",
        "# Display the first 25 misclassified images for the target class\n",
        "plt.figure(figsize=(10, 10))\n",
        "for i in range(min(25, len(misclassified_indices_class))):\n",
        "    index = misclassified_indices_class[i]\n",
        "    plt.subplot(5, 5, i + 1)\n",
        "    plt.xticks([])\n",
        "    plt.yticks([])\n",
        "    plt.grid(False)\n",
        "    plt.imshow(test_images[index], cmap=plt.cm.binary)\n",
        "    plt.xlabel(f\"True:{y_test[index]}, Pred:{predicted_classes[index]}\")\n",
        "plt.show()\n"
      ],
      "metadata": {
        "id": "v6XQlpZb__0M"
      },
      "execution_count": null,
      "outputs": []
    },
    {
      "cell_type": "markdown",
      "source": [
        "## Save the model (and load it again)"
      ],
      "metadata": {
        "id": "7S2lYX_RCAI0"
      }
    },
    {
      "cell_type": "code",
      "source": [
        "# Save the model\n",
        "model.save('my_first_mnist_model.keras')"
      ],
      "metadata": {
        "id": "EOlHiEIaCEhD"
      },
      "execution_count": null,
      "outputs": []
    },
    {
      "cell_type": "code",
      "source": [
        "# Load the model\n",
        "loaded_model = keras.models.load_model('my_first_mnist_model.keras')\n",
        "\n",
        "# Evaluate the loaded model\n",
        "loaded_model.evaluate(x_test, y_test)\n",
        "\n",
        "# TODO: TensorBoard"
      ],
      "metadata": {
        "id": "Jf2A6Zq9CSf3"
      },
      "execution_count": null,
      "outputs": []
    },
    {
      "cell_type": "markdown",
      "source": [
        "# Restart the model:"
      ],
      "metadata": {
        "id": "D9ZpnRwDM4AW"
      }
    },
    {
      "cell_type": "code",
      "source": [
        "\n",
        "model = keras.Sequential([\n",
        "    keras.layers.InputLayer(input_shape=(28 * 28,)),\n",
        "    keras.layers.Dense(512, activation='relu'),\n",
        "    keras.layers.Dense(10, activation='softmax')\n",
        "])\n",
        "\n",
        "model.summary()\n",
        "\n",
        "# set model parameters:\n",
        "model.compile(optimizer='sgd',\n",
        "              loss='sparse_categorical_crossentropy',\n",
        "              metrics=['accuracy'])\n",
        "\n",
        "# optimizer ... training algorithm\n",
        "# loss ... error/loss function\n",
        "# metrics ... for evaluation\n",
        "\n",
        "# Train the model\n",
        "history = model.fit(x_train, y_train, epochs=5, batch_size=128, validation_data=(x_val, y_val))\n",
        "\n",
        "\n",
        "# Plot training & validation accuracy values\n",
        "plt.plot(history.history['accuracy'])\n",
        "plt.plot(history.history['val_accuracy'])\n",
        "plt.title('Model accuracy')\n",
        "plt.ylabel('Accuracy')\n",
        "plt.xlabel('Epoch')\n",
        "plt.legend(['Train', 'Validation'], loc='upper left')\n",
        "plt.show()\n",
        "\n",
        "# Plot training & validation loss values\n",
        "plt.plot(history.history['loss'])\n",
        "plt.plot(history.history['val_loss'])\n",
        "plt.title('Model loss')\n",
        "plt.ylabel('Loss')\n",
        "plt.xlabel('Epoch')\n",
        "plt.legend(['Train', 'Validation'], loc='upper left')\n",
        "plt.show()\n",
        "\n",
        "# Evaluate the model on the test set\n",
        "test_loss, test_acc = model.evaluate(x_test, y_test)\n",
        "print('Test accuracy:', test_acc, '\\nTest loss:', test_loss)\n",
        "\n",
        "# Get the predicted class for each sample\n",
        "predicted_classes = np.argmax(predictions, axis=1)\n",
        "\n",
        "\n",
        "# Misclassified indices:\n",
        "misclassified_indices = np.where(predicted_classes != y_test)[0]\n",
        "num_misclassified = len(misclassified_indices)\n",
        "print(\"Number of misclassified images:\", num_misclassified, \"out of\", len(y_test), \", accuracy\", test_acc)\n",
        "\n",
        "from sklearn.metrics import confusion_matrix\n",
        "cm = confusion_matrix(y_test, predicted_classes)\n",
        "\n",
        "# Plot the confusion matrix\n",
        "import matplotlib.pyplot as plt\n",
        "import seaborn as sns\n",
        "\n",
        "plt.figure(figsize=(10, 8))\n",
        "sns.heatmap(cm, annot=True, fmt='d', cmap='Blues')\n",
        "plt.xlabel('Predicted Label')\n",
        "plt.ylabel('True Label')\n",
        "plt.title('Confusion Matrix')\n",
        "plt.show()\n",
        "\n",
        "# Plot the confusion matrix\n",
        "import matplotlib.pyplot as plt\n",
        "import seaborn as sns\n",
        "\n",
        "# Plot some misclassified images from a given target (or predicted) class\n",
        "target_class = 3\n",
        "misclassified_indices_class = np.where((predicted_classes != y_test) & (y_test == target_class))[0]\n",
        "#misclassified_indices_class = np.where((predicted_classes != y_test) & (predicted_classes == target_class))[0]\n",
        "\n",
        "\n",
        "\n",
        "# Display the first 25 misclassified images for the target class\n",
        "plt.figure(figsize=(10, 10))\n",
        "for i in range(min(25, len(misclassified_indices_class))):\n",
        "    index = misclassified_indices_class[i]\n",
        "    plt.subplot(5, 5, i + 1)\n",
        "    plt.xticks([])\n",
        "    plt.yticks([])\n",
        "    plt.grid(False)\n",
        "    plt.imshow(test_images[index], cmap=plt.cm.binary)\n",
        "    plt.xlabel(f\"True:{y_test[index]}, Pred:{predicted_classes[index]}\")\n",
        "plt.show()\n",
        "\n",
        "# Save the model\n",
        "import datetime\n",
        "\n",
        "# Create a unique model name using the current date and time\n",
        "model_name = \"my_first_mnist_model_\" + datetime.datetime.now().strftime(\"%Y%m%d-%H%M%S\") + \".keras\"\n",
        "# Save the model with the generated name\n",
        "model.save(model_name)\n"
      ],
      "metadata": {
        "id": "RveTCqdxM1IK"
      },
      "execution_count": null,
      "outputs": []
    },
    {
      "cell_type": "markdown",
      "source": [
        "# Excersises\n",
        "1. **Change the number of layers and neurons in the model.** See how this affects the accuracy of the model.\n",
        "You can also experiment with different **activation functions**\n",
        "in the hidden layers.\n",
        "2. **Experiment with the number of epochs and the learning rate**. Plot the learning curves to see the differences.\n",
        "3. **Change the loss function**.\n",
        "Try using a different loss function: categorical_crossentropy with one-hot encoded y.\n",
        "4. **Experiment with different batch sizes**.\n",
        "Experiment with different batch sizes during training. See how this\n",
        "affects the accuracy and training time of the model.\n",
        "5. **Try using the alternative normalization method for the input data.** (e.g., standardization). See how this affects the model's performance.\n",
        "6. **Investigate the confusion matrix**.\n",
        "Analyze the confusion matrix to identify the pairs of classes\n",
        "that are most frequently misclassified.\n",
        "7. **Try changing the optimizer used in the model**. You can experiment with\n",
        " Adam, RMSprop, Adagrad, etc. See how this affects the accuracy and\n",
        " training time of the model.\n",
        "8. **Use TensorBoard:** Set up TensorBoard to visualize your model’s performance, learning curves, and other metrics in real-time. This will help you track your experiments and analyze results more effectively during training.\n"
      ],
      "metadata": {
        "id": "xn-GJqLSQ-dO"
      }
    },
    {
      "cell_type": "markdown",
      "source": [
        "### What else to mention the next time?\n",
        "- callbacks to monitor and control the training process\n",
        "- hyperparameter tuning\n",
        "- visualize the model's internal representations\n",
        "- methods that improve the model's performance (batch normalization,...)\n",
        "- learning rate scheduling\n",
        "- Regularization techniques (L1, L2, dropout) to prevent overfitting\n",
        "- data augmentation\n",
        "- crossvalidation"
      ],
      "metadata": {
        "id": "PiEWy1FzFHXI"
      }
    },
    {
      "cell_type": "code",
      "source": [],
      "metadata": {
        "id": "u6lvDyr-QVgb"
      },
      "execution_count": null,
      "outputs": []
    }
  ]
}