{
  "nbformat": 4,
  "nbformat_minor": 0,
  "metadata": {
    "colab": {
      "provenance": [],
      "authorship_tag": "ABX9TyMSAlSpzRs+28fplSXYqWCo",
      "include_colab_link": true
    },
    "kernelspec": {
      "name": "python3",
      "display_name": "Python 3"
    },
    "language_info": {
      "name": "python"
    }
  },
  "cells": [
    {
      "cell_type": "markdown",
      "metadata": {
        "id": "view-in-github",
        "colab_type": "text"
      },
      "source": [
        "<a href=\"https://colab.research.google.com/github/reitezuz/notebooks-for-NES2-2024/blob/main/lecture_01/simple_example.ipynb\" target=\"_parent\"><img src=\"https://colab.research.google.com/assets/colab-badge.svg\" alt=\"Open In Colab\"/></a>"
      ]
    },
    {
      "cell_type": "markdown",
      "source": [
        "# The first example - simple Keras MLP model"
      ],
      "metadata": {
        "id": "aH52Ccz9IIx_"
      }
    },
    {
      "cell_type": "code",
      "execution_count": null,
      "metadata": {
        "id": "GF_kzI6jXW4F",
        "colab": {
          "base_uri": "https://localhost:8080/"
        },
        "outputId": "2352e2b1-9744-425f-8ef9-170cd7dc44e6"
      },
      "outputs": [
        {
          "output_type": "stream",
          "name": "stderr",
          "text": [
            "/usr/local/lib/python3.10/dist-packages/keras/src/layers/core/dense.py:87: UserWarning: Do not pass an `input_shape`/`input_dim` argument to a layer. When using Sequential models, prefer using an `Input(shape)` object as the first layer in the model instead.\n",
            "  super().__init__(activity_regularizer=activity_regularizer, **kwargs)\n"
          ]
        },
        {
          "output_type": "stream",
          "name": "stdout",
          "text": [
            "Epoch 1/2\n",
            "\u001b[1m1875/1875\u001b[0m \u001b[32m━━━━━━━━━━━━━━━━━━━━\u001b[0m\u001b[37m\u001b[0m \u001b[1m20s\u001b[0m 10ms/step - accuracy: 0.7685 - loss: 0.9614\n",
            "Epoch 2/2\n",
            "\u001b[1m1571/1875\u001b[0m \u001b[32m━━━━━━━━━━━━━━━━\u001b[0m\u001b[37m━━━━\u001b[0m \u001b[1m2s\u001b[0m 7ms/step - accuracy: 0.9067 - loss: 0.3364"
          ]
        }
      ],
      "source": [
        "# Train a simple Keras MLP model\n",
        "\n",
        "import keras\n",
        "from tensorflow.keras.datasets import mnist as mnist\n",
        "\n",
        "\n",
        "###############################################\n",
        "# Load (and analyze) the data\n",
        "(x_train, y_train), (x_test, y_test) = mnist.load_data()\n",
        "\n",
        "# Pre-process the data\n",
        "x_train = x_train.reshape(60000, 28 * 28)\n",
        "x_test = x_test.reshape(10000, 28 * 28)\n",
        "x_train = x_train.astype('float32') / 255\n",
        "x_test = x_test.astype('float32') / 255\n",
        "\n",
        "###############################################\n",
        "# Define the model\n",
        "model = keras.Sequential([\n",
        "    keras.layers.Dense(512, activation='relu', input_shape=(28 * 28,)),\n",
        "    #  tf.keras.layers.Dropout(0.2),\n",
        "    keras.layers.Dense(10, activation='softmax')\n",
        "])\n",
        "\n",
        "# Set model parameters\n",
        "model.compile(optimizer='sgd',\n",
        "              loss='sparse_categorical_crossentropy',\n",
        "              metrics=['accuracy'])\n",
        "\n",
        "# Train the model\n",
        "model.fit(x_train, y_train, epochs=2)\n",
        "\n",
        "###############################################\n",
        "# Evaluate the model\n",
        "model.evaluate(x_test, y_test)\n",
        "\n",
        "# Save the model\n",
        "model.save('mnist_simple_mlp_model_0.keras')\n",
        "\n",
        "# Load the model\n",
        "# loaded_model = keras.models.load_model('mnist_simple_mlp_model_0.keras')"
      ]
    }
  ]
}