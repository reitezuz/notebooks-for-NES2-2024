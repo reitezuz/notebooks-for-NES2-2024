{
 "cells": [
  {
   "cell_type": "markdown",
   "metadata": {
    "colab_type": "text",
    "id": "view-in-github"
   },
   "source": [
    "<a href=\"https://colab.research.google.com/github/reitezuz/notebooks-for-NES2-2024/blob/main/lecture_05/binary_classification_imdb.ipynb\" target=\"_parent\"><img src=\"https://colab.research.google.com/assets/colab-badge.svg\" alt=\"Open In Colab\"/></a>"
   ]
  },
  {
   "cell_type": "markdown",
   "metadata": {
    "id": "2oE3eNM9dAej"
   },
   "source": [
    "# Binary classification example - classifying movie reviews from the IMDB dataset\n",
    "\n",
    "\n",
    "Based on: https://github.com/fchollet/deep-learning-with-python-notebooks/blob/master/chapter04_getting-started-with-neural-networks.ipynb\n",
    "\n",
    "IMDB Dataset is a dataset for binary sentiment classification (positive or negative reviews). It contains a set of 25,000 highly polar movie reviews for training and 25,000 for testing. \n",
    "http://ai.stanford.edu/~amaas/data/sentiment/\n",
    "https://www.kaggle.com/datasets/lakshmi25npathi/imdb-dataset-of-50k-movie-reviews\n",
    "\n",
    "\n"
   ]
  },
  {
   "cell_type": "code",
   "execution_count": 1,
   "metadata": {
    "colab": {
     "base_uri": "https://localhost:8080/"
    },
    "id": "wAtekJE4c951",
    "outputId": "a46be2c6-a271-4032-a662-d81e881dc789"
   },
   "outputs": [],
   "source": [
    "# Load the IMDB dataset\n",
    "from keras.datasets import imdb\n",
    "(train_data, train_labels), (test_data, test_labels) = imdb.load_data(num_words=10_000) # 10000 most common words\n",
    "\n"
   ]
  },
  {
   "cell_type": "markdown",
   "metadata": {
    "id": "L-7gfjNSoTRt"
   },
   "source": [
    "Observe the data:"
   ]
  },
  {
   "cell_type": "code",
   "execution_count": 2,
   "metadata": {
    "colab": {
     "base_uri": "https://localhost:8080/"
    },
    "id": "RKe8odjGfIzO",
    "outputId": "92d48e7f-40c3-4dc6-873d-76e8586fc3f7"
   },
   "outputs": [
    {
     "name": "stdout",
     "output_type": "stream",
     "text": [
      "(25000,) (25000,)\n",
      "(25000,) (25000,)\n",
      "[1 0 0 1 0 0 1 0 1 0]\n",
      "[1, 14, 22, 16, 43, 530, 973, 1622, 1385, 65, 458, 4468, 66, 3941, 4, 173, 36, 256, 5, 25, 100, 43, 838, 112, 50, 670, 2, 9, 35, 480, 284, 5, 150, 4, 172, 112, 167, 2, 336, 385, 39, 4, 172, 4536, 1111, 17, 546, 38, 13, 447, 4, 192, 50, 16, 6, 147, 2025, 19, 14, 22, 4, 1920, 4613, 469, 4, 22, 71, 87, 12, 16, 43, 530, 38, 76, 15, 13, 1247, 4, 22, 17, 515, 17, 12, 16, 626, 18, 2, 5, 62, 386, 12, 8, 316, 8, 106, 5, 4, 2223, 5244, 16, 480, 66, 3785, 33, 4, 130, 12, 16, 38, 619, 5, 25, 124, 51, 36, 135, 48, 25, 1415, 33, 6, 22, 12, 215, 28, 77, 52, 5, 14, 407, 16, 82, 2, 8, 4, 107, 117, 5952, 15, 256, 4, 2, 7, 3766, 5, 723, 36, 71, 43, 530, 476, 26, 400, 317, 46, 7, 4, 2, 1029, 13, 104, 88, 4, 381, 15, 297, 98, 32, 2071, 56, 26, 141, 6, 194, 7486, 18, 4, 226, 22, 21, 134, 476, 26, 480, 5, 144, 30, 5535, 18, 51, 36, 28, 224, 92, 25, 104, 4, 226, 65, 16, 38, 1334, 88, 12, 16, 283, 5, 16, 4472, 113, 103, 32, 15, 16, 5345, 19, 178, 32]\n",
      "10000\n",
      "Training Label distribution: [12500 12500]\n",
      "Testing Label distribution: [12500 12500]\n"
     ]
    }
   ],
   "source": [
    "import numpy as np\n",
    "\n",
    "# 25000 training samples - movie reviews.\n",
    "print(train_data.shape, train_labels.shape)\n",
    "\n",
    "# 25000 testing samples - movie reviews.\n",
    "print(test_data.shape, test_labels.shape)\n",
    "\n",
    "# 2 categories: positive / negative sentinent\n",
    "print(train_labels[:10])\n",
    "\n",
    "print(train_data[0])\n",
    "\n",
    "# 10000 most common words\n",
    "dimension = max([max(sequence) for sequence in train_data])+1\n",
    "print(dimension)\n",
    "\n",
    "# Distribution of training and testing labels\n",
    "print(\"Training Label distribution:\", np.bincount(train_labels))\n",
    "print(\"Testing Label distribution:\", np.bincount(test_labels))\n",
    "\n"
   ]
  },
  {
   "cell_type": "markdown",
   "metadata": {
    "id": "Cw3ziSiGmlq1"
   },
   "source": [
    "Example of a review in the training data:"
   ]
  },
  {
   "cell_type": "code",
   "execution_count": 3,
   "metadata": {
    "colab": {
     "base_uri": "https://localhost:8080/"
    },
    "id": "a_5IeYxFlZ1V",
    "outputId": "18215fe6-78c7-4d91-fd69-8fa8370ed092"
   },
   "outputs": [
    {
     "name": "stdout",
     "output_type": "stream",
     "text": [
      "? this film was just brilliant casting location scenery story direction everyone's really suited the part they played and you could just imagine being there robert ? is an amazing actor and now the same being director ? father came from the same scottish island as myself so i loved the fact there was a real connection with this film the witty remarks throughout the film were great it was just brilliant so much that i bought the film as soon as it was released for ? and would recommend it to everyone to watch and the fly fishing was amazing really cried at the end it was so sad and you know what they say if you cry at a film it must have been good and this definitely was also ? to the two little boy's that played the ? of norman and paul they were just brilliant children are often left out of the ? list i think because the stars that play them all grown up are such a big profile for the whole film but these children are amazing and should be praised for what they have done don't you think the whole story was so lovely because it was true and was someone's life after all that was shared with us all\n"
     ]
    }
   ],
   "source": [
    "# Get the word index from the IMDB dataset.\n",
    "# This is a dictionary mapping words to integers.\n",
    "word_index = imdb.get_word_index()\n",
    "\n",
    "# Create a reverse word index, mapping integers back to words.\n",
    "reverse_word_index = dict([(value, key) for (key, value) in word_index.items()])\n",
    "\n",
    "# Decode the first review in the training data.\n",
    "# Subtract 3 from each index to account for special tokens (padding, start of sequence, unknown).\n",
    "# Replace any unknown words with '?'.\n",
    "decoded_review = ' '.join([reverse_word_index.get(i - 3, '?') for i in train_data[0]])\n",
    "\n",
    "# Print the decoded review.\n",
    "print(decoded_review)"
   ]
  },
  {
   "cell_type": "markdown",
   "metadata": {
    "id": "dSuCWSuZqeAE"
   },
   "source": [
    "# Preprocess the data"
   ]
  },
  {
   "cell_type": "code",
   "execution_count": 4,
   "metadata": {
    "colab": {
     "base_uri": "https://localhost:8080/"
    },
    "id": "7bM0LyKvrYQG",
    "outputId": "48897826-0394-4439-a7c2-0efb1c8afe56"
   },
   "outputs": [
    {
     "name": "stdout",
     "output_type": "stream",
     "text": [
      "[0. 1. 1. ... 0. 0. 0.] (15000, 10000) [0.]\n"
     ]
    }
   ],
   "source": [
    "# 1. Vectorize the data\n",
    "def vectorize_sequences(sequences):\n",
    "    results = np.zeros((len(sequences), dimension))\n",
    "    for i, sequence in enumerate(sequences):\n",
    "        for j in sequence:\n",
    "            results[i, j] = 1.\n",
    "    return results\n",
    "\n",
    "x_train_ext = vectorize_sequences(train_data)  # Vectorize training data\n",
    "x_test = vectorize_sequences(test_data)    # Vectorize testing data\n",
    "\n",
    "y_train_ext = np.asarray(train_labels).astype('float32')  # Vectorize training labels\n",
    "y_test = np.asarray(test_labels).astype('float32')    # Vectorize testing labels\n",
    "\n",
    "\n",
    "# 2. Split the training data into training and validation sets\n",
    "# The validation set is used to monitor the performance of the model during training and prevent overfitting.\n",
    "x_val = x_train_ext[:10000]\n",
    "x_train = x_train_ext[10000:]\n",
    "y_val = y_train_ext[:10000]\n",
    "y_train = y_train_ext[10000:]\n",
    "y_train = y_train.reshape(-1, 1)  # Reshape to match output shape\n",
    "y_val = y_val.reshape(-1, 1)      # Reshape to match output shape\n",
    "y_test = y_test.reshape(-1, 1)      # Reshape to match output shape\n",
    "\n",
    "\n",
    "print(x_train[0], x_train.shape, y_train[0])"
   ]
  },
  {
   "cell_type": "markdown",
   "metadata": {
    "id": "K7IEoZegxUqY"
   },
   "source": [
    "# Define and train the model\n",
    "\n",
    "### MLP model for binary classification:\n",
    "- 'sigmoid' activation function in the output layer \n",
    "- 'relu' or 'tanh' in the hidden layers\n",
    "- BinaryCrossentropy (or MSE) loss function + BinaryAccuracy metrics (https://keras.io/api/metrics)"
   ]
  },
  {
   "cell_type": "code",
   "execution_count": 5,
   "metadata": {},
   "outputs": [],
   "source": [
    "# Data frame for results\n",
    "import pandas as pd\n",
    "\n",
    "columns = [\"Model Name\", \"Details\", \"Test Accuracy\", \"Test Loss\", \"Train Accuracy\", \"Train Loss\"]\n",
    "results_df = pd.DataFrame(columns=columns)"
   ]
  },
  {
   "cell_type": "code",
   "execution_count": 6,
   "metadata": {
    "colab": {
     "base_uri": "https://localhost:8080/",
     "height": 1000
    },
    "id": "So-wPCMDfBTN",
    "outputId": "c9322354-c819-4801-d9db-89bb246445a5"
   },
   "outputs": [
    {
     "data": {
      "text/html": [
       "<pre style=\"white-space:pre;overflow-x:auto;line-height:normal;font-family:Menlo,'DejaVu Sans Mono',consolas,'Courier New',monospace\"><span style=\"font-weight: bold\">Model: \"sequential\"</span>\n",
       "</pre>\n"
      ],
      "text/plain": [
       "\u001b[1mModel: \"sequential\"\u001b[0m\n"
      ]
     },
     "metadata": {},
     "output_type": "display_data"
    },
    {
     "data": {
      "text/html": [
       "<pre style=\"white-space:pre;overflow-x:auto;line-height:normal;font-family:Menlo,'DejaVu Sans Mono',consolas,'Courier New',monospace\">┏━━━━━━━━━━━━━━━━━━━━━━━━━━━━━━━━━┳━━━━━━━━━━━━━━━━━━━━━━━━┳━━━━━━━━━━━━━━━┓\n",
       "┃<span style=\"font-weight: bold\"> Layer (type)                    </span>┃<span style=\"font-weight: bold\"> Output Shape           </span>┃<span style=\"font-weight: bold\">       Param # </span>┃\n",
       "┡━━━━━━━━━━━━━━━━━━━━━━━━━━━━━━━━━╇━━━━━━━━━━━━━━━━━━━━━━━━╇━━━━━━━━━━━━━━━┩\n",
       "│ dense (<span style=\"color: #0087ff; text-decoration-color: #0087ff\">Dense</span>)                   │ (<span style=\"color: #00d7ff; text-decoration-color: #00d7ff\">None</span>, <span style=\"color: #00af00; text-decoration-color: #00af00\">16</span>)             │       <span style=\"color: #00af00; text-decoration-color: #00af00\">160,016</span> │\n",
       "├─────────────────────────────────┼────────────────────────┼───────────────┤\n",
       "│ dense_1 (<span style=\"color: #0087ff; text-decoration-color: #0087ff\">Dense</span>)                 │ (<span style=\"color: #00d7ff; text-decoration-color: #00d7ff\">None</span>, <span style=\"color: #00af00; text-decoration-color: #00af00\">16</span>)             │           <span style=\"color: #00af00; text-decoration-color: #00af00\">272</span> │\n",
       "├─────────────────────────────────┼────────────────────────┼───────────────┤\n",
       "│ dense_2 (<span style=\"color: #0087ff; text-decoration-color: #0087ff\">Dense</span>)                 │ (<span style=\"color: #00d7ff; text-decoration-color: #00d7ff\">None</span>, <span style=\"color: #00af00; text-decoration-color: #00af00\">1</span>)              │            <span style=\"color: #00af00; text-decoration-color: #00af00\">17</span> │\n",
       "└─────────────────────────────────┴────────────────────────┴───────────────┘\n",
       "</pre>\n"
      ],
      "text/plain": [
       "┏━━━━━━━━━━━━━━━━━━━━━━━━━━━━━━━━━┳━━━━━━━━━━━━━━━━━━━━━━━━┳━━━━━━━━━━━━━━━┓\n",
       "┃\u001b[1m \u001b[0m\u001b[1mLayer (type)                   \u001b[0m\u001b[1m \u001b[0m┃\u001b[1m \u001b[0m\u001b[1mOutput Shape          \u001b[0m\u001b[1m \u001b[0m┃\u001b[1m \u001b[0m\u001b[1m      Param #\u001b[0m\u001b[1m \u001b[0m┃\n",
       "┡━━━━━━━━━━━━━━━━━━━━━━━━━━━━━━━━━╇━━━━━━━━━━━━━━━━━━━━━━━━╇━━━━━━━━━━━━━━━┩\n",
       "│ dense (\u001b[38;5;33mDense\u001b[0m)                   │ (\u001b[38;5;45mNone\u001b[0m, \u001b[38;5;34m16\u001b[0m)             │       \u001b[38;5;34m160,016\u001b[0m │\n",
       "├─────────────────────────────────┼────────────────────────┼───────────────┤\n",
       "│ dense_1 (\u001b[38;5;33mDense\u001b[0m)                 │ (\u001b[38;5;45mNone\u001b[0m, \u001b[38;5;34m16\u001b[0m)             │           \u001b[38;5;34m272\u001b[0m │\n",
       "├─────────────────────────────────┼────────────────────────┼───────────────┤\n",
       "│ dense_2 (\u001b[38;5;33mDense\u001b[0m)                 │ (\u001b[38;5;45mNone\u001b[0m, \u001b[38;5;34m1\u001b[0m)              │            \u001b[38;5;34m17\u001b[0m │\n",
       "└─────────────────────────────────┴────────────────────────┴───────────────┘\n"
      ]
     },
     "metadata": {},
     "output_type": "display_data"
    },
    {
     "data": {
      "text/html": [
       "<pre style=\"white-space:pre;overflow-x:auto;line-height:normal;font-family:Menlo,'DejaVu Sans Mono',consolas,'Courier New',monospace\"><span style=\"font-weight: bold\"> Total params: </span><span style=\"color: #00af00; text-decoration-color: #00af00\">160,305</span> (626.19 KB)\n",
       "</pre>\n"
      ],
      "text/plain": [
       "\u001b[1m Total params: \u001b[0m\u001b[38;5;34m160,305\u001b[0m (626.19 KB)\n"
      ]
     },
     "metadata": {},
     "output_type": "display_data"
    },
    {
     "data": {
      "text/html": [
       "<pre style=\"white-space:pre;overflow-x:auto;line-height:normal;font-family:Menlo,'DejaVu Sans Mono',consolas,'Courier New',monospace\"><span style=\"font-weight: bold\"> Trainable params: </span><span style=\"color: #00af00; text-decoration-color: #00af00\">160,305</span> (626.19 KB)\n",
       "</pre>\n"
      ],
      "text/plain": [
       "\u001b[1m Trainable params: \u001b[0m\u001b[38;5;34m160,305\u001b[0m (626.19 KB)\n"
      ]
     },
     "metadata": {},
     "output_type": "display_data"
    },
    {
     "data": {
      "text/html": [
       "<pre style=\"white-space:pre;overflow-x:auto;line-height:normal;font-family:Menlo,'DejaVu Sans Mono',consolas,'Courier New',monospace\"><span style=\"font-weight: bold\"> Non-trainable params: </span><span style=\"color: #00af00; text-decoration-color: #00af00\">0</span> (0.00 B)\n",
       "</pre>\n"
      ],
      "text/plain": [
       "\u001b[1m Non-trainable params: \u001b[0m\u001b[38;5;34m0\u001b[0m (0.00 B)\n"
      ]
     },
     "metadata": {},
     "output_type": "display_data"
    },
    {
     "name": "stdout",
     "output_type": "stream",
     "text": [
      "Epoch 1/20\n",
      "\u001b[1m30/30\u001b[0m \u001b[32m━━━━━━━━━━━━━━━━━━━━\u001b[0m\u001b[37m\u001b[0m \u001b[1m9s\u001b[0m 240ms/step - accuracy: 0.6387 - loss: 0.6473 - val_accuracy: 0.8456 - val_loss: 0.4710\n",
      "Epoch 2/20\n",
      "\u001b[1m30/30\u001b[0m \u001b[32m━━━━━━━━━━━━━━━━━━━━\u001b[0m\u001b[37m\u001b[0m \u001b[1m4s\u001b[0m 24ms/step - accuracy: 0.8764 - loss: 0.4000 - val_accuracy: 0.8815 - val_loss: 0.3220\n",
      "Epoch 3/20\n",
      "\u001b[1m30/30\u001b[0m \u001b[32m━━━━━━━━━━━━━━━━━━━━\u001b[0m\u001b[37m\u001b[0m \u001b[1m1s\u001b[0m 22ms/step - accuracy: 0.9193 - loss: 0.2482 - val_accuracy: 0.8824 - val_loss: 0.2897\n",
      "Epoch 4/20\n",
      "\u001b[1m30/30\u001b[0m \u001b[32m━━━━━━━━━━━━━━━━━━━━\u001b[0m\u001b[37m\u001b[0m \u001b[1m1s\u001b[0m 21ms/step - accuracy: 0.9415 - loss: 0.1848 - val_accuracy: 0.8886 - val_loss: 0.2758\n",
      "Epoch 5/20\n",
      "\u001b[1m30/30\u001b[0m \u001b[32m━━━━━━━━━━━━━━━━━━━━\u001b[0m\u001b[37m\u001b[0m \u001b[1m1s\u001b[0m 20ms/step - accuracy: 0.9596 - loss: 0.1418 - val_accuracy: 0.8871 - val_loss: 0.2819\n",
      "Epoch 6/20\n",
      "\u001b[1m30/30\u001b[0m \u001b[32m━━━━━━━━━━━━━━━━━━━━\u001b[0m\u001b[37m\u001b[0m \u001b[1m1s\u001b[0m 20ms/step - accuracy: 0.9711 - loss: 0.1119 - val_accuracy: 0.8836 - val_loss: 0.2980\n",
      "Epoch 7/20\n",
      "\u001b[1m30/30\u001b[0m \u001b[32m━━━━━━━━━━━━━━━━━━━━\u001b[0m\u001b[37m\u001b[0m \u001b[1m1s\u001b[0m 23ms/step - accuracy: 0.9781 - loss: 0.0889 - val_accuracy: 0.8813 - val_loss: 0.3155\n",
      "Epoch 8/20\n",
      "\u001b[1m30/30\u001b[0m \u001b[32m━━━━━━━━━━━━━━━━━━━━\u001b[0m\u001b[37m\u001b[0m \u001b[1m1s\u001b[0m 23ms/step - accuracy: 0.9846 - loss: 0.0715 - val_accuracy: 0.8786 - val_loss: 0.3347\n",
      "Epoch 9/20\n",
      "\u001b[1m30/30\u001b[0m \u001b[32m━━━━━━━━━━━━━━━━━━━━\u001b[0m\u001b[37m\u001b[0m \u001b[1m1s\u001b[0m 22ms/step - accuracy: 0.9899 - loss: 0.0570 - val_accuracy: 0.8788 - val_loss: 0.3586\n",
      "Epoch 10/20\n",
      "\u001b[1m30/30\u001b[0m \u001b[32m━━━━━━━━━━━━━━━━━━━━\u001b[0m\u001b[37m\u001b[0m \u001b[1m1s\u001b[0m 21ms/step - accuracy: 0.9942 - loss: 0.0443 - val_accuracy: 0.8781 - val_loss: 0.3831\n",
      "Epoch 11/20\n",
      "\u001b[1m30/30\u001b[0m \u001b[32m━━━━━━━━━━━━━━━━━━━━\u001b[0m\u001b[37m\u001b[0m \u001b[1m1s\u001b[0m 20ms/step - accuracy: 0.9955 - loss: 0.0360 - val_accuracy: 0.8765 - val_loss: 0.4096\n",
      "Epoch 12/20\n",
      "\u001b[1m30/30\u001b[0m \u001b[32m━━━━━━━━━━━━━━━━━━━━\u001b[0m\u001b[37m\u001b[0m \u001b[1m1s\u001b[0m 25ms/step - accuracy: 0.9973 - loss: 0.0295 - val_accuracy: 0.8754 - val_loss: 0.4348\n",
      "Epoch 13/20\n",
      "\u001b[1m30/30\u001b[0m \u001b[32m━━━━━━━━━━━━━━━━━━━━\u001b[0m\u001b[37m\u001b[0m \u001b[1m1s\u001b[0m 21ms/step - accuracy: 0.9986 - loss: 0.0220 - val_accuracy: 0.8720 - val_loss: 0.4645\n",
      "Epoch 14/20\n",
      "\u001b[1m30/30\u001b[0m \u001b[32m━━━━━━━━━━━━━━━━━━━━\u001b[0m\u001b[37m\u001b[0m \u001b[1m1s\u001b[0m 23ms/step - accuracy: 0.9995 - loss: 0.0175 - val_accuracy: 0.8724 - val_loss: 0.4865\n",
      "Epoch 15/20\n",
      "\u001b[1m30/30\u001b[0m \u001b[32m━━━━━━━━━━━━━━━━━━━━\u001b[0m\u001b[37m\u001b[0m \u001b[1m1s\u001b[0m 20ms/step - accuracy: 0.9999 - loss: 0.0129 - val_accuracy: 0.8704 - val_loss: 0.5120\n",
      "Epoch 16/20\n",
      "\u001b[1m30/30\u001b[0m \u001b[32m━━━━━━━━━━━━━━━━━━━━\u001b[0m\u001b[37m\u001b[0m \u001b[1m1s\u001b[0m 20ms/step - accuracy: 0.9998 - loss: 0.0103 - val_accuracy: 0.8689 - val_loss: 0.5375\n",
      "Epoch 17/20\n",
      "\u001b[1m30/30\u001b[0m \u001b[32m━━━━━━━━━━━━━━━━━━━━\u001b[0m\u001b[37m\u001b[0m \u001b[1m1s\u001b[0m 19ms/step - accuracy: 0.9998 - loss: 0.0083 - val_accuracy: 0.8683 - val_loss: 0.5588\n",
      "Epoch 18/20\n",
      "\u001b[1m30/30\u001b[0m \u001b[32m━━━━━━━━━━━━━━━━━━━━\u001b[0m\u001b[37m\u001b[0m \u001b[1m1s\u001b[0m 24ms/step - accuracy: 0.9999 - loss: 0.0064 - val_accuracy: 0.8689 - val_loss: 0.5777\n",
      "Epoch 19/20\n",
      "\u001b[1m30/30\u001b[0m \u001b[32m━━━━━━━━━━━━━━━━━━━━\u001b[0m\u001b[37m\u001b[0m \u001b[1m1s\u001b[0m 21ms/step - accuracy: 0.9999 - loss: 0.0055 - val_accuracy: 0.8682 - val_loss: 0.5941\n",
      "Epoch 20/20\n",
      "\u001b[1m30/30\u001b[0m \u001b[32m━━━━━━━━━━━━━━━━━━━━\u001b[0m\u001b[37m\u001b[0m \u001b[1m1s\u001b[0m 21ms/step - accuracy: 0.9998 - loss: 0.0049 - val_accuracy: 0.8675 - val_loss: 0.6117\n",
      "\u001b[1m469/469\u001b[0m \u001b[32m━━━━━━━━━━━━━━━━━━━━\u001b[0m\u001b[37m\u001b[0m \u001b[1m1s\u001b[0m 2ms/step - accuracy: 0.9998 - loss: 0.0040\n",
      "Training accuracy: 0.9998666644096375 \n",
      "Train loss: 0.003937359433621168\n",
      "\u001b[1m313/313\u001b[0m \u001b[32m━━━━━━━━━━━━━━━━━━━━\u001b[0m\u001b[37m\u001b[0m \u001b[1m1s\u001b[0m 2ms/step - accuracy: 0.8703 - loss: 0.5981\n",
      "Validation accuracy: 0.8675000071525574 \n",
      "Val loss: 0.6117357015609741\n",
      "\u001b[1m782/782\u001b[0m \u001b[32m━━━━━━━━━━━━━━━━━━━━\u001b[0m\u001b[37m\u001b[0m \u001b[1m2s\u001b[0m 2ms/step - accuracy: 0.8541 - loss: 0.6733\n",
      "Test accuracy: 0.8569999933242798 \n",
      "Test loss: 0.6587644815444946\n",
      "Results:\n",
      "                 Model Name       Details  Test Accuracy  Test Loss  \\\n",
      "0  imdb_mlp_20241106-211537  hidden 16-16          0.857   0.658764   \n",
      "\n",
      "   Train Accuracy Train Loss  TrainLoss  \n",
      "0        0.999867        NaN   0.003937  \n"
     ]
    },
    {
     "name": "stderr",
     "output_type": "stream",
     "text": [
      "C:\\Users\\zuzka\\AppData\\Local\\Temp\\ipykernel_92888\\335308001.py:83: FutureWarning: The behavior of DataFrame concatenation with empty or all-NA entries is deprecated. In a future version, this will no longer exclude empty or all-NA columns when determining the result dtypes. To retain the old behavior, exclude the relevant entries before the concat operation.\n",
      "  results_df = pd.concat([results_df, pd.DataFrame([new_entry])], ignore_index=True)\n"
     ]
    },
    {
     "name": "stdout",
     "output_type": "stream",
     "text": [
      "dict_keys(['accuracy', 'loss', 'val_accuracy', 'val_loss'])\n"
     ]
    },
    {
     "data": {
      "image/png": "[encoded data removed]",
      "text/plain": [
       "<Figure size 640x480 with 1 Axes>"
      ]
     },
     "metadata": {},
     "output_type": "display_data"
    },
    {
     "data": {
      "image/png": "[encoded data removed]",
      "text/plain": [
       "<Figure size 640x480 with 1 Axes>"
      ]
     },
     "metadata": {},
     "output_type": "display_data"
    }
   ],
   "source": [
    "###############################################\n",
    "# Define the log directory for TensorBoard\n",
    "import os\n",
    "import datetime\n",
    "import keras\n",
    "import tensorflow as tf\n",
    "\n",
    "model_datetime_name = \"imdb_mlp_\"+  datetime.datetime.now().strftime(\"%Y%m%d-%H%M%S\")\n",
    "log_dir = \"./logs/fit_imdb/\" + model_datetime_name\n",
    "# print(os.getcwd())\n",
    "\n",
    "# Clear any logs from previous runs\n",
    "# !rm -rf ./logs/\n",
    "\n",
    "# Ensure the directory exists\n",
    "if not os.path.exists(os.path.dirname(log_dir)):\n",
    "    os.makedirs(os.path.dirname(log_dir))\n",
    "\n",
    "###############################################\n",
    "# Initialize Tensorboard callback\n",
    "tensorboard_callback = keras.callbacks.TensorBoard(\n",
    "    log_dir=log_dir,\n",
    "    histogram_freq=1,  # Visualize histograms of layer weights\n",
    "    write_graph=True,  # Log the graph to visualize the model structure\n",
    "    write_images=True  # Optionally, save images of weights and activation histograms\n",
    "    # update_freq='batch'  # Log metrics after every batch\n",
    "    # write_steps_per_second=True  # Log steps per second during training\n",
    ")\n",
    "################################################\n",
    "\n",
    "\n",
    "# define the model architecture\n",
    "model = keras.Sequential([\n",
    "    keras.layers.InputLayer(shape=(10000,)),\n",
    "    keras.layers.Dense(16, activation='relu'),\n",
    "    keras.layers.Dense(16, activation='relu'),\n",
    "    keras.layers.Dense(1, activation='sigmoid')  # output layer\n",
    "])\n",
    "\n",
    "model.summary()\n",
    "\n",
    "# Set model parameters\n",
    "model.compile(optimizer= keras.optimizers.Adam(learning_rate=0.001),\n",
    "              loss= keras.losses.BinaryCrossentropy(),\n",
    "              metrics= [keras.metrics.BinaryAccuracy(\"accuracy\")])\n",
    "\n",
    "\n",
    "num_epochs = 20\n",
    "batch_size = 512\n",
    "\n",
    "# Train the model\n",
    "history = model.fit(x_train,\n",
    "                    y_train,\n",
    "                    epochs=num_epochs,\n",
    "                    batch_size=batch_size,\n",
    "                    validation_data=(x_val, y_val),\n",
    "                    callbacks=[tensorboard_callback])\n",
    "\n",
    "# Evaluate the model on the training set\n",
    "train_loss, train_acc = model.evaluate(x_train, y_train)\n",
    "print('Training accuracy:', train_acc, '\\nTrain loss:', train_loss)\n",
    "\n",
    "# Evaluate the model on the validation set\n",
    "val_loss, val_acc = model.evaluate(x_val, y_val)\n",
    "print('Validation accuracy:', val_acc, '\\nVal loss:', val_loss)\n",
    "\n",
    "# Evaluate the model on the test set\n",
    "test_loss, test_acc = model.evaluate(x_test, y_test)\n",
    "print('Test accuracy:', test_acc, '\\nTest loss:', test_loss)\n",
    "\n",
    "\n",
    "model_details = \"hidden 16-16\"\n",
    "\n",
    "# Add results to the dataframe: \n",
    "new_entry = {\n",
    "    \"Model Name\" : model_datetime_name,\n",
    "    \"Details\" : model_details,\n",
    "    \"Test Accuracy\" : test_acc, \n",
    "    \"Test Loss\" : test_loss,\n",
    "    \"Train Accuracy\" : train_acc, \n",
    "    \"TrainLoss\" : train_loss,  \n",
    "}\n",
    "results_df = pd.concat([results_df, pd.DataFrame([new_entry])], ignore_index=True)\n",
    "\n",
    "# View and and save the dataframe:\n",
    "print(\"Results:\")\n",
    "print(results_df)\n",
    "\n",
    "\n",
    "# Save the model\n",
    "model_dir = \"./models/\"\n",
    "# Ensure the directory exists\n",
    "if not os.path.exists(os.path.dirname(model_dir)):\n",
    "    os.makedirs(os.path.dirname(model_dir))\n",
    "# Create a unique model name using the current date and time\n",
    "model_name = model_dir + model_datetime_name + \".keras\"\n",
    "# Save the model with the generated name\n",
    "model.save(model_name)\n",
    "results_df.to_csv(model_dir + \"imdb_results.csv\", index=False)\n",
    "\n",
    "\n",
    "###########################################\n",
    "# plot the training progress:\n",
    "import matplotlib.pyplot as plt\n",
    "\n",
    "history_dict = history.history\n",
    "print(history_dict.keys())\n",
    "\n",
    "\n",
    "# Plot training & validation accuracy values\n",
    "plt.plot(history.history['accuracy'])\n",
    "plt.plot(history.history['val_accuracy'])\n",
    "plt.title('Model accuracy')\n",
    "plt.ylabel('Accuracy')\n",
    "plt.xlabel('Epoch')\n",
    "plt.legend(['Train', 'Validation'], loc='upper left')\n",
    "plt.show()\n",
    "\n",
    "# Plot training & validation loss values\n",
    "plt.plot(history.history['loss'])\n",
    "plt.plot(history.history['val_loss'])\n",
    "plt.title('Model loss')\n",
    "plt.ylabel('Loss')\n",
    "plt.xlabel('Epoch')\n",
    "plt.legend(['Train', 'Validation'], loc='upper left')\n",
    "plt.show()"
   ]
  },
  {
   "cell_type": "markdown",
   "metadata": {},
   "source": [
    "## Evaluate the model and make predictions on new data"
   ]
  },
  {
   "cell_type": "code",
   "execution_count": 7,
   "metadata": {
    "colab": {
     "base_uri": "https://localhost:8080/"
    },
    "id": "Tl8Fl7oJefyf",
    "outputId": "910baffc-e06b-4e7c-b51e-ba0c2b3fa4e6"
   },
   "outputs": [
    {
     "name": "stdout",
     "output_type": "stream",
     "text": [
      "\u001b[1m782/782\u001b[0m \u001b[32m━━━━━━━━━━━━━━━━━━━━\u001b[0m\u001b[37m\u001b[0m \u001b[1m1s\u001b[0m 2ms/step\n",
      "Number of misclassified samples: 3575\n",
      "\n",
      "Misclassified Sample 1:\n",
      "Predicted Class: 1\n",
      "True Class: 0.0\n",
      "Review: ? i generally love this type of movie however this time i found myself wanting to kick the screen since i can't do that i will just complain about it this was absolutely idiotic the things that happen with the dead kids are very cool but the alive people are absolute idiots i am a grown man pretty big and i can defend myself well however i would not do half the stuff the little girl does in this movie also the mother in this movie is reckless with her children to the point of neglect i wish i wasn't so angry about her and her actions because i would have otherwise enjoyed the flick what a number she was take my advise and fast forward through everything you see her do until the end also is anyone else getting sick of watching movies that are filmed so dark anymore one can hardly see what is being filmed as an audience we are ? involved with the actions on the screen so then why the hell can't we have night vision\n",
      "\n",
      "Misclassified Sample 2:\n",
      "Predicted Class: 1\n",
      "True Class: 0.0\n",
      "Review: ? hollywood had a long love affair with bogus ? nights tales but few of these products have stood the test of time the most memorable were the jon hall maria ? films which have long since become camp this one is filled with dubbed songs ? ? and slapstick it's a truly crop of corn and pretty near ? today it was nominated for its imaginative special effects which are almost ? in this day and age ? mainly of trick photography the only outstanding positive feature which survives is its beautiful color and clarity sad to say of the many films made in this genre few of them come up to alexander ? original thief of ? almost any other ? nights film is superior to this one though it's a loser\n",
      "\n",
      "Misclassified Sample 3:\n",
      "Predicted Class: 1\n",
      "True Class: 0.0\n",
      "Review: ? ed ? mitchell is a teenager who lives for his job at good ? a small but friendly neighborhood ? stand while his buddy ? thompson also works there but lack ? single minded devotion to his job he's there because he accidentally destroyed the car of his teacher mr ? ? and has to raise money to pay the ? when ? ? a ? fast foot chain opens across the street it looks like good ? is history until ed ? a secret ? that brings hundreds of new customers to their door however the ? manager of ? ? kurt jan is determined to get his hands on the ? and put good ? out of business meanwhile ed and ? must rescue ? ? ? the world's oldest fast food employee from the demented hills asylum and ed might just find love with ? jackson if he could take his mind off the ? long enough to pay attention to her good ? is a comedy directed for kids decent story acting and overall a pretty harmless kids movie\n",
      "\n",
      "Misclassified Sample 4:\n",
      "Predicted Class: 0\n",
      "True Class: 1.0\n",
      "Review: ? how managed to avoid attention remains a mystery a potent mix of comedy and crime this one takes chances where tarantino plays it safe with the hollywood formula the risks don't always pay off one character in one sequence comes off ? silly and falls flat in the lead role thomas jane gives a wonderful and complex performance and two brief appearances by mickey rourke hint at the high potential of this much under and ? used actor here's a director one should keep one's eye on\n",
      "\n",
      "Misclassified Sample 5:\n",
      "Predicted Class: 0\n",
      "True Class: 1.0\n",
      "Review: ? if you expect that this movie is full of action and grabbing you from the start then don't watch it but if you like those kind of ? movies which stick in your mind for a while until you get the details then you will love it now don't get me wrong there is action and there are things going on just not in the usual way br br basically the plot is in a post apocalyptic world where anyone fights in his or their way for survival in this fight they lost the ability to speak i don't want to write more to not spoil the movie for you but trust me if you like sf authors like or or even some from orson scott card you will love this movie\n"
     ]
    }
   ],
   "source": [
    "\n",
    "# Get predicted probabilities for the test set\n",
    "y_pred_probs = model.predict(x_test)\n",
    "\n",
    "# Convert probabilities to class predictions (0 or 1)\n",
    "y_pred = (y_pred_probs > 0.5).astype(int)\n",
    "\n",
    "# Find the indices of misclassified samples\n",
    "misclassified_indices = np.where(y_pred != y_test)[0]\n",
    "\n",
    "# Print the number of misclassified samples\n",
    "print(\"Number of misclassified samples:\", len(misclassified_indices))\n",
    "\n",
    "# Print examples of misclassified samples (e.g., first 5)\n",
    "num_examples_to_show = 5\n",
    "for i in range(min(num_examples_to_show, len(misclassified_indices))):\n",
    "    index = misclassified_indices[i]\n",
    "    decoded_review = ' '.join([reverse_word_index.get(i - 3, '?') for i in test_data[index]])\n",
    "    print(f\"\\nMisclassified Sample {i+1}:\")\n",
    "    print(\"Predicted Class:\", y_pred[index][0])\n",
    "    print(\"True Class:\", y_test[index][0])\n",
    "    print(\"Review:\", decoded_review)"
   ]
  },
  {
   "cell_type": "markdown",
   "metadata": {},
   "source": [
    "# Summary\n",
    "\n",
    "1. For binary classification, the loss function BinaryCrossentropy is used (though MSE can also be used), and the metric is BinaryAccuracy. A sigmoid activation function is chosen for the output layer.\n",
    "2. If input vectors have different lengths, they need to be adjusted to have the same length.\n",
    "3. Word index is the simplest way to encode texts (but there are better approaches like TF-IDF, Word Embeddings, etc.).\n",
    "4. To evaluate how well the model is learning and generalizing, a validation dataset is used.\n"
   ]
  },
  {
   "cell_type": "markdown",
   "metadata": {
    "id": "7NBDvpMDefyg"
   },
   "source": [
    "# Exercises\n",
    "1. **Change the number of epochs** to avoid overfitting. Compare the errors on the validation and test sets.\n",
    "2. **Implement early stopping** to prevent overfitting. Compare the errors.\n",
    "3. **Change the number of neurons or layers**. Observe how this affects the model’s accuracy and learning curves. You can also experiment with different **activation functions** in the hidden layers.\n",
    "4. **Change the loss function**. Try using the `mse` (mean squared error) loss function and compare the results.\n",
    "\n"
   ]
  },
  {
   "cell_type": "markdown",
   "metadata": {
    "id": "rM4IjSgiefyh"
   },
   "source": []
  },
  {
   "cell_type": "code",
   "execution_count": 8,
   "metadata": {
    "id": "G-Tlm1axefyh"
   },
   "outputs": [],
   "source": [
    "from keras.callbacks import EarlyStopping\n",
    "early_stopping = EarlyStopping(monitor=\"val_loss\", patience=3, restore_best_weights=True)"
   ]
  },
  {
   "cell_type": "code",
   "execution_count": 9,
   "metadata": {
    "id": "_hMG-lwrefyh"
   },
   "outputs": [
    {
     "data": {
      "text/plain": [
       "Launching TensorBoard..."
      ]
     },
     "metadata": {},
     "output_type": "display_data"
    },
    {
     "data": {
      "text/html": [
       "\n",
       "      <iframe id=\"tensorboard-frame-701d81fc809c611\" width=\"100%\" height=\"800\" frameborder=\"0\">\n",
       "      </iframe>\n",
       "      <script>\n",
       "        (function() {\n",
       "          const frame = document.getElementById(\"tensorboard-frame-701d81fc809c611\");\n",
       "          const url = new URL(\"http://localhost\");\n",
       "          const port = 6010;\n",
       "          if (port) {\n",
       "            url.port = port;\n",
       "          }\n",
       "          frame.src = url;\n",
       "        })();\n",
       "      </script>\n",
       "    "
      ],
      "text/plain": [
       "<IPython.core.display.HTML object>"
      ]
     },
     "metadata": {},
     "output_type": "display_data"
    }
   ],
   "source": [
    "###############################################\n",
    "# Load TensorBoard notebook extension\n",
    "%load_ext tensorboard\n",
    "\n",
    "# Start TensorBoard before training begins\n",
    "%tensorboard --logdir logs/fit_imdb --reload_interval=1"
   ]
  },
  {
   "cell_type": "code",
   "execution_count": null,
   "metadata": {},
   "outputs": [],
   "source": [
    "# Early stopping:\n",
    "from keras.callbacks import EarlyStopping\n",
    "early_stopping = EarlyStopping(monitor=\"val_loss\", patience=3, restore_best_weights=True)"
   ]
  },
  {
   "cell_type": "code",
   "execution_count": null,
   "metadata": {},
   "outputs": [],
   "source": [
    "# dropout\n",
    "regularization_param = 0.0001\n",
    "model = keras.Sequential([\n",
    "    keras.layers.InputLayer(shape=(10000,)),\n",
    "    keras.layers.Dense(16, activation='relu'),\n",
    "    keras.layers.Dropout(0.1),\n",
    "    keras.layers.Dense(16, activation='relu'),\n",
    "    keras.layers.Dropout(0.1),\n",
    "    keras.layers.Dense(1, activation='sigmoid')  # output layer\n",
    "])"
   ]
  },
  {
   "cell_type": "code",
   "execution_count": null,
   "metadata": {},
   "outputs": [],
   "source": [
    "# Regularization:\n",
    "regularization_param = 0.0001\n",
    "model = keras.Sequential([\n",
    "    keras.layers.InputLayer(shape=(10000,)),\n",
    "    keras.layers.Dense(16, activation='relu', kernel_regularizer=keras.regularizers.l2(regularization_param),),\n",
    "    keras.layers.Dense(16, activation='relu', kernel_regularizer=keras.regularizers.l2(regularization_param),),\n",
    "    keras.layers.Dense(1, activation='sigmoid')  # output layer\n",
    "])"
   ]
  }
 ],
 "metadata": {
  "accelerator": "GPU",
  "colab": {
   "gpuType": "T4",
   "include_colab_link": true,
   "provenance": []
  },
  "kernelspec": {
   "display_name": "Python 3",
   "name": "python3"
  },
  "language_info": {
   "codemirror_mode": {
    "name": "ipython",
    "version": 3
   },
   "file_extension": ".py",
   "mimetype": "text/x-python",
   "name": "python",
   "nbconvert_exporter": "python",
   "pygments_lexer": "ipython3",
   "version": "3.11.2"
  }
 },
 "nbformat": 4,
 "nbformat_minor": 0
}
